{
 "cells": [
  {
   "cell_type": "markdown",
   "metadata": {},
   "source": [
    "### Hbase实习 王田雨-马佳媛"
   ]
  },
  {
   "cell_type": "code",
   "execution_count": 1,
   "metadata": {},
   "outputs": [],
   "source": [
    "import happybase\n",
    "con = happybase.Connection('hbase', port=9090, timeout=60000)\n",
    "if b'test' in con.tables():\n",
    "    con.disable_table(b'test')\n",
    "    con.delete_table(b'test')\n",
    "con.create_table('test', {'col1': {}, 'col2': {}, 'col3': {}})\n",
    "#create 'test','col1', 'col2', 'col3';"
   ]
  },
  {
   "cell_type": "code",
   "execution_count": 2,
   "metadata": {},
   "outputs": [],
   "source": [
    "table = con.table('test')\n",
    "data = {\n",
    "        b\"col1:name\": \"张三\".encode('utf-8'),\n",
    "        b\"col1:age\": b\"37\",\n",
    "        b\"col1:salary\": b\"3000\",\n",
    "        b\"col3:course\": \"微积分，线性代数\".encode('utf-8'),\n",
    "        b\"col3:service\": \"班主任\".encode('utf-8')}\n",
    "table.put(b't01', data)"
   ]
  },
  {
   "cell_type": "code",
   "execution_count": 3,
   "metadata": {},
   "outputs": [],
   "source": [
    "# 使用input命令来插入数据\n",
    "\n",
    "\n",
    "\n",
    "data = {\n",
    "        b\"col1:name\": \"李四\".encode('utf-8'),\n",
    "        b\"col1:age\": b\"42\",\n",
    "        b\"col1:salary\": b\"3500\",\n",
    "        b\"col2:paper\": b\"4\",\n",
    "        b\"col2:project\": b\"3\"}\n",
    "table.put(b't02', data)\n",
    "\n",
    "data = {\n",
    "        b\"col1:name\": \"王五\".encode('utf-8'),\n",
    "        b\"col1:age\": \"53\",\n",
    "        b\"col1:salary\": \"4500\",\n",
    "        b\"col2:paper\": \"8\",\n",
    "        b\"col2:project\": \"2\"}\n",
    "table.put(b't03', data)\n",
    "\n",
    "data = {\n",
    "        b\"col1:name\": \"周到\".encode('utf-8'),\n",
    "        b\"col1:age\":  b\"41\",\n",
    "        b\"col1:salary\":  b\"3800\",\n",
    "        b\"col2:paper\":  b\"10\",\n",
    "        b\"col2:project\":  b\"5\",\n",
    "        b\"col3:course\":  \"微积分\".encode('utf-8'),\n",
    "        b\"col3:service\":  \"班主任\".encode('utf-8')}\n",
    "table.put(b't04', data)\n",
    "\n",
    "data = {\n",
    "        b\"col1:name\": \"李达\".encode('utf-8'),\n",
    "        b\"col1:age\":  b\"56\",\n",
    "        b\"col1:salary\":  b\"5000\",\n",
    "        b\"col3:course\":  \"数据库，数据结构\".encode('utf-8'),\n",
    "        b\"col3:service\":  \"辅导员\".encode('utf-8')}\n",
    "table.put(b't05', data)"
   ]
  },
  {
   "cell_type": "code",
   "execution_count": 4,
   "metadata": {},
   "outputs": [
    {
     "name": "stdout",
     "output_type": "stream",
     "text": [
      "b'3500'\n",
      "b'4'\n"
     ]
    }
   ],
   "source": [
    "#查询t02的薪水和论文数量\n",
    "print(str(table.row(b't02')[b\"col1:salary\"]))\n",
    "print(str(table.row(b't02')[b\"col2:paper\"]))"
   ]
  },
  {
   "cell_type": "code",
   "execution_count": 5,
   "metadata": {},
   "outputs": [
    {
     "name": "stdout",
     "output_type": "stream",
     "text": [
      "张三\n",
      "周到\n"
     ]
    }
   ],
   "source": [
    "#查询教授微积分的老师\n",
    "for key, data in table.scan():\n",
    "    #print(key, data)\n",
    "    #print(data)\n",
    "    if b'col3:course' in data and '微积分' in data[b'col3:course'].decode():\n",
    "        print(data[b'col1:name'].decode())\n"
   ]
  },
  {
   "cell_type": "code",
   "execution_count": 6,
   "metadata": {},
   "outputs": [
    {
     "name": "stdout",
     "output_type": "stream",
     "text": [
      "{b'cf:B': b'10,11,12,13,14,15,16,17,18,19,20,21,22,23,24,25,26,27,28,29,30,31,32,33,34,35,36,37,38,39,40,41,42,43,44,45,46,47,48,49,50,51,52,53,54,55,56,57,58,59,60,61,62,63,64,65,66,67,68,69,70,71,72,73,74,75,76,77,78,79,80,81,82,83,84,85,86,87,88,89,90,91,92,93,94,95,96,97,98,99'}\n",
      "{b'cf:A': b'9,8,7,6,5,4,3,2,1'}\n"
     ]
    }
   ],
   "source": [
    "import pymysql\n",
    "\n",
    "# 连接数据库，已提前按照对应的代码导入到mysql中\n",
    "conn = pymysql.connect(host='mysql', port=3306, user='root', password='123456', db='hbase')\n",
    "\n",
    "# 创建游标\n",
    "cursor = conn.cursor()\n",
    "\n",
    "# 执行查询\n",
    "sql = \"select A, group_concat(B) from mysqlTb group by A;\"\n",
    "cursor.execute(sql)\n",
    "\n",
    "# 获取结果集\n",
    "result = cursor.fetchall()\n",
    "if b'hbaseTb1' in con.tables():\n",
    "    con.disable_table(b'hbaseTb1')\n",
    "    con.delete_table(b'hbaseTb1')\n",
    "con.create_table('hbaseTb1', {'cf': {}})\n",
    "tb1 = con.table('hbaseTb1')\n",
    "for k, v in result:\n",
    "#     print(k, v)\n",
    "    tb1.put(str(k).encode('utf-8'), {\"cf:B\": v.encode('utf-8')})\n",
    "#print(result)\n",
    "\n",
    "# 执行查询\n",
    "sql = \"select B, group_concat(A) from mysqlTb group by B;\"\n",
    "cursor.execute(sql)\n",
    "\n",
    "# 获取结果集\n",
    "result = cursor.fetchall()\n",
    "if b'hbaseTb2' in con.tables():\n",
    "    con.disable_table(b'hbaseTb2')\n",
    "    con.delete_table(b'hbaseTb2')\n",
    "con.create_table('hbaseTb2', {'cf': {}})\n",
    "tb2 = con.table('hbaseTb2')\n",
    "for k, v in result:\n",
    "#     print(k, v)\n",
    "    tb2.put(str(k).encode('utf-8'), {\"cf:A\": v.encode('utf-8')})\n",
    "#print(result)\n",
    "#检索A=5\n",
    "print(tb1.row(str(5).encode('utf-8')))\n",
    "#检索B=50\n",
    "print(tb2.row(str(50).encode('utf-8')))\n",
    "# 关闭游标和连接\n",
    "cursor.close()\n",
    "conn.close()\n"
   ]
  },
  {
   "cell_type": "code",
   "execution_count": null,
   "metadata": {},
   "outputs": [],
   "source": []
  }
 ],
 "metadata": {
  "kernelspec": {
   "display_name": "Python 3 (ipykernel)",
   "language": "python",
   "name": "python3"
  },
  "language_info": {
   "codemirror_mode": {
    "name": "ipython",
    "version": 3
   },
   "file_extension": ".py",
   "mimetype": "text/x-python",
   "name": "python",
   "nbconvert_exporter": "python",
   "pygments_lexer": "ipython3",
   "version": "3.10.10"
  }
 },
 "nbformat": 4,
 "nbformat_minor": 4
}
